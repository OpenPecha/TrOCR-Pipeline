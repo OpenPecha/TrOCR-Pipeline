{
 "nbformat": 4,
 "nbformat_minor": 0,
 "metadata": {
  "colab": {
   "name": "Fine-tune TrOCR on IAM Handwriting Database using native PyTorch.ipynb",
   "provenance": [],
   "collapsed_sections": [],
   "mount_file_id": "1ZNLaSZ1M_cDG3iv15WZYGMJIGQ-kAFCe",
   "authorship_tag": "ABX9TyOoDDIKoyzSOKamjrBZtGNt",
   "include_colab_link": true
  },
  "kernelspec": {
   "name": "python3",
   "language": "python",
   "display_name": "Python 3 (ipykernel)"
  },
  "language_info": {
   "name": "python"
  },
  "accelerator": "GPU",
  "widgets": {
   "application/vnd.jupyter.widget-state+json": {
    "e4297a2c10e846b7a8dd67a0e675bc27": {
     "model_module": "@jupyter-widgets/controls",
     "model_name": "HBoxModel",
     "model_module_version": "1.5.0",
     "state": {
      "_view_name": "HBoxView",
      "_dom_classes": [],
      "_model_name": "HBoxModel",
      "_view_module": "@jupyter-widgets/controls",
      "_model_module_version": "1.5.0",
      "_view_count": null,
      "_view_module_version": "1.5.0",
      "box_style": "",
      "layout": "IPY_MODEL_a8c51dcfcd0e446b9e637a75cc6f1f4a",
      "_model_module": "@jupyter-widgets/controls",
      "children": [
       "IPY_MODEL_530908dd92ce4fcc8ad0e4a3872018fd",
       "IPY_MODEL_77ad0e900327449bbd84fa13ab836cb8",
       "IPY_MODEL_3db97545836b48c7861c49e180120f2d"
      ]
     }
    },
    "a8c51dcfcd0e446b9e637a75cc6f1f4a": {
     "model_module": "@jupyter-widgets/base",
     "model_name": "LayoutModel",
     "model_module_version": "1.2.0",
     "state": {
      "_view_name": "LayoutView",
      "grid_template_rows": null,
      "right": null,
      "justify_content": null,
      "_view_module": "@jupyter-widgets/base",
      "overflow": null,
      "_model_module_version": "1.2.0",
      "_view_count": null,
      "flex_flow": null,
      "width": null,
      "min_width": null,
      "border": null,
      "align_items": null,
      "bottom": null,
      "_model_module": "@jupyter-widgets/base",
      "top": null,
      "grid_column": null,
      "overflow_y": null,
      "overflow_x": null,
      "grid_auto_flow": null,
      "grid_area": null,
      "grid_template_columns": null,
      "flex": null,
      "_model_name": "LayoutModel",
      "justify_items": null,
      "grid_row": null,
      "max_height": null,
      "align_content": null,
      "visibility": null,
      "align_self": null,
      "height": null,
      "min_height": null,
      "padding": null,
      "grid_auto_rows": null,
      "grid_gap": null,
      "max_width": null,
      "order": null,
      "_view_module_version": "1.2.0",
      "grid_template_areas": null,
      "object_position": null,
      "object_fit": null,
      "grid_auto_columns": null,
      "margin": null,
      "display": null,
      "left": null
     }
    },
    "530908dd92ce4fcc8ad0e4a3872018fd": {
     "model_module": "@jupyter-widgets/controls",
     "model_name": "HTMLModel",
     "model_module_version": "1.5.0",
     "state": {
      "_view_name": "HTMLView",
      "style": "IPY_MODEL_fd851d6769c94ffba7824e7022edb5af",
      "_dom_classes": [],
      "description": "",
      "_model_name": "HTMLModel",
      "placeholder": "​",
      "_view_module": "@jupyter-widgets/controls",
      "_model_module_version": "1.5.0",
      "value": "100%",
      "_view_count": null,
      "_view_module_version": "1.5.0",
      "description_tooltip": null,
      "_model_module": "@jupyter-widgets/controls",
      "layout": "IPY_MODEL_ff3d0c0258bf430895a70e590491ee8b"
     }
    },
    "77ad0e900327449bbd84fa13ab836cb8": {
     "model_module": "@jupyter-widgets/controls",
     "model_name": "FloatProgressModel",
     "model_module_version": "1.5.0",
     "state": {
      "_view_name": "ProgressView",
      "style": "IPY_MODEL_0aacf74aaf85475aaae9e399755b493b",
      "_dom_classes": [],
      "description": "",
      "_model_name": "FloatProgressModel",
      "bar_style": "success",
      "max": 146,
      "_view_module": "@jupyter-widgets/controls",
      "_model_module_version": "1.5.0",
      "value": 146,
      "_view_count": null,
      "_view_module_version": "1.5.0",
      "orientation": "horizontal",
      "min": 0,
      "description_tooltip": null,
      "_model_module": "@jupyter-widgets/controls",
      "layout": "IPY_MODEL_937ac0758b1d43918504dbd21dc240e4"
     }
    },
    "3db97545836b48c7861c49e180120f2d": {
     "model_module": "@jupyter-widgets/controls",
     "model_name": "HTMLModel",
     "model_module_version": "1.5.0",
     "state": {
      "_view_name": "HTMLView",
      "style": "IPY_MODEL_c5b9f7d529194837a2b39d68b28fcf1c",
      "_dom_classes": [],
      "description": "",
      "_model_name": "HTMLModel",
      "placeholder": "​",
      "_view_module": "@jupyter-widgets/controls",
      "_model_module_version": "1.5.0",
      "value": " 146/146 [07:31&lt;00:00,  2.81s/it]",
      "_view_count": null,
      "_view_module_version": "1.5.0",
      "description_tooltip": null,
      "_model_module": "@jupyter-widgets/controls",
      "layout": "IPY_MODEL_ba707c27af6d42d3a172135ccb884a0c"
     }
    },
    "fd851d6769c94ffba7824e7022edb5af": {
     "model_module": "@jupyter-widgets/controls",
     "model_name": "DescriptionStyleModel",
     "model_module_version": "1.5.0",
     "state": {
      "_view_name": "StyleView",
      "_model_name": "DescriptionStyleModel",
      "description_width": "",
      "_view_module": "@jupyter-widgets/base",
      "_model_module_version": "1.5.0",
      "_view_count": null,
      "_view_module_version": "1.2.0",
      "_model_module": "@jupyter-widgets/controls"
     }
    },
    "ff3d0c0258bf430895a70e590491ee8b": {
     "model_module": "@jupyter-widgets/base",
     "model_name": "LayoutModel",
     "model_module_version": "1.2.0",
     "state": {
      "_view_name": "LayoutView",
      "grid_template_rows": null,
      "right": null,
      "justify_content": null,
      "_view_module": "@jupyter-widgets/base",
      "overflow": null,
      "_model_module_version": "1.2.0",
      "_view_count": null,
      "flex_flow": null,
      "width": null,
      "min_width": null,
      "border": null,
      "align_items": null,
      "bottom": null,
      "_model_module": "@jupyter-widgets/base",
      "top": null,
      "grid_column": null,
      "overflow_y": null,
      "overflow_x": null,
      "grid_auto_flow": null,
      "grid_area": null,
      "grid_template_columns": null,
      "flex": null,
      "_model_name": "LayoutModel",
      "justify_items": null,
      "grid_row": null,
      "max_height": null,
      "align_content": null,
      "visibility": null,
      "align_self": null,
      "height": null,
      "min_height": null,
      "padding": null,
      "grid_auto_rows": null,
      "grid_gap": null,
      "max_width": null,
      "order": null,
      "_view_module_version": "1.2.0",
      "grid_template_areas": null,
      "object_position": null,
      "object_fit": null,
      "grid_auto_columns": null,
      "margin": null,
      "display": null,
      "left": null
     }
    },
    "0aacf74aaf85475aaae9e399755b493b": {
     "model_module": "@jupyter-widgets/controls",
     "model_name": "ProgressStyleModel",
     "model_module_version": "1.5.0",
     "state": {
      "_view_name": "StyleView",
      "_model_name": "ProgressStyleModel",
      "description_width": "",
      "_view_module": "@jupyter-widgets/base",
      "_model_module_version": "1.5.0",
      "_view_count": null,
      "_view_module_version": "1.2.0",
      "bar_color": null,
      "_model_module": "@jupyter-widgets/controls"
     }
    },
    "937ac0758b1d43918504dbd21dc240e4": {
     "model_module": "@jupyter-widgets/base",
     "model_name": "LayoutModel",
     "model_module_version": "1.2.0",
     "state": {
      "_view_name": "LayoutView",
      "grid_template_rows": null,
      "right": null,
      "justify_content": null,
      "_view_module": "@jupyter-widgets/base",
      "overflow": null,
      "_model_module_version": "1.2.0",
      "_view_count": null,
      "flex_flow": null,
      "width": null,
      "min_width": null,
      "border": null,
      "align_items": null,
      "bottom": null,
      "_model_module": "@jupyter-widgets/base",
      "top": null,
      "grid_column": null,
      "overflow_y": null,
      "overflow_x": null,
      "grid_auto_flow": null,
      "grid_area": null,
      "grid_template_columns": null,
      "flex": null,
      "_model_name": "LayoutModel",
      "justify_items": null,
      "grid_row": null,
      "max_height": null,
      "align_content": null,
      "visibility": null,
      "align_self": null,
      "height": null,
      "min_height": null,
      "padding": null,
      "grid_auto_rows": null,
      "grid_gap": null,
      "max_width": null,
      "order": null,
      "_view_module_version": "1.2.0",
      "grid_template_areas": null,
      "object_position": null,
      "object_fit": null,
      "grid_auto_columns": null,
      "margin": null,
      "display": null,
      "left": null
     }
    },
    "c5b9f7d529194837a2b39d68b28fcf1c": {
     "model_module": "@jupyter-widgets/controls",
     "model_name": "DescriptionStyleModel",
     "model_module_version": "1.5.0",
     "state": {
      "_view_name": "StyleView",
      "_model_name": "DescriptionStyleModel",
      "description_width": "",
      "_view_module": "@jupyter-widgets/base",
      "_model_module_version": "1.5.0",
      "_view_count": null,
      "_view_module_version": "1.2.0",
      "_model_module": "@jupyter-widgets/controls"
     }
    },
    "ba707c27af6d42d3a172135ccb884a0c": {
     "model_module": "@jupyter-widgets/base",
     "model_name": "LayoutModel",
     "model_module_version": "1.2.0",
     "state": {
      "_view_name": "LayoutView",
      "grid_template_rows": null,
      "right": null,
      "justify_content": null,
      "_view_module": "@jupyter-widgets/base",
      "overflow": null,
      "_model_module_version": "1.2.0",
      "_view_count": null,
      "flex_flow": null,
      "width": null,
      "min_width": null,
      "border": null,
      "align_items": null,
      "bottom": null,
      "_model_module": "@jupyter-widgets/base",
      "top": null,
      "grid_column": null,
      "overflow_y": null,
      "overflow_x": null,
      "grid_auto_flow": null,
      "grid_area": null,
      "grid_template_columns": null,
      "flex": null,
      "_model_name": "LayoutModel",
      "justify_items": null,
      "grid_row": null,
      "max_height": null,
      "align_content": null,
      "visibility": null,
      "align_self": null,
      "height": null,
      "min_height": null,
      "padding": null,
      "grid_auto_rows": null,
      "grid_gap": null,
      "max_width": null,
      "order": null,
      "_view_module_version": "1.2.0",
      "grid_template_areas": null,
      "object_position": null,
      "object_fit": null,
      "grid_auto_columns": null,
      "margin": null,
      "display": null,
      "left": null
     }
    },
    "fe52ce398c58473d9c759e2d7c7de88a": {
     "model_module": "@jupyter-widgets/controls",
     "model_name": "HBoxModel",
     "model_module_version": "1.5.0",
     "state": {
      "_view_name": "HBoxView",
      "_dom_classes": [],
      "_model_name": "HBoxModel",
      "_view_module": "@jupyter-widgets/controls",
      "_model_module_version": "1.5.0",
      "_view_count": null,
      "_view_module_version": "1.5.0",
      "box_style": "",
      "layout": "IPY_MODEL_735997f4f6c3410498238e96ae319a7a",
      "_model_module": "@jupyter-widgets/controls",
      "children": [
       "IPY_MODEL_822b7c76a120459793c167a3452e1609",
       "IPY_MODEL_58d748c254684d91a815c2b681ec8f27",
       "IPY_MODEL_1127b972710143dbb7f697721c6cd345"
      ]
     }
    },
    "735997f4f6c3410498238e96ae319a7a": {
     "model_module": "@jupyter-widgets/base",
     "model_name": "LayoutModel",
     "model_module_version": "1.2.0",
     "state": {
      "_view_name": "LayoutView",
      "grid_template_rows": null,
      "right": null,
      "justify_content": null,
      "_view_module": "@jupyter-widgets/base",
      "overflow": null,
      "_model_module_version": "1.2.0",
      "_view_count": null,
      "flex_flow": null,
      "width": null,
      "min_width": null,
      "border": null,
      "align_items": null,
      "bottom": null,
      "_model_module": "@jupyter-widgets/base",
      "top": null,
      "grid_column": null,
      "overflow_y": null,
      "overflow_x": null,
      "grid_auto_flow": null,
      "grid_area": null,
      "grid_template_columns": null,
      "flex": null,
      "_model_name": "LayoutModel",
      "justify_items": null,
      "grid_row": null,
      "max_height": null,
      "align_content": null,
      "visibility": null,
      "align_self": null,
      "height": null,
      "min_height": null,
      "padding": null,
      "grid_auto_rows": null,
      "grid_gap": null,
      "max_width": null,
      "order": null,
      "_view_module_version": "1.2.0",
      "grid_template_areas": null,
      "object_position": null,
      "object_fit": null,
      "grid_auto_columns": null,
      "margin": null,
      "display": null,
      "left": null
     }
    },
    "822b7c76a120459793c167a3452e1609": {
     "model_module": "@jupyter-widgets/controls",
     "model_name": "HTMLModel",
     "model_module_version": "1.5.0",
     "state": {
      "_view_name": "HTMLView",
      "style": "IPY_MODEL_dff31a75d9fb4398b9238653a76b34ed",
      "_dom_classes": [],
      "description": "",
      "_model_name": "HTMLModel",
      "placeholder": "​",
      "_view_module": "@jupyter-widgets/controls",
      "_model_module_version": "1.5.0",
      "value": " 11%",
      "_view_count": null,
      "_view_module_version": "1.5.0",
      "description_tooltip": null,
      "_model_module": "@jupyter-widgets/controls",
      "layout": "IPY_MODEL_6ee36118724f47d499c2e3467631ec42"
     }
    },
    "58d748c254684d91a815c2b681ec8f27": {
     "model_module": "@jupyter-widgets/controls",
     "model_name": "FloatProgressModel",
     "model_module_version": "1.5.0",
     "state": {
      "_view_name": "ProgressView",
      "style": "IPY_MODEL_ba2b94d5a0d747f0ac7a6bcd55f3b25a",
      "_dom_classes": [],
      "description": "",
      "_model_name": "FloatProgressModel",
      "bar_style": "danger",
      "max": 146,
      "_view_module": "@jupyter-widgets/controls",
      "_model_module_version": "1.5.0",
      "value": 16,
      "_view_count": null,
      "_view_module_version": "1.5.0",
      "orientation": "horizontal",
      "min": 0,
      "description_tooltip": null,
      "_model_module": "@jupyter-widgets/controls",
      "layout": "IPY_MODEL_194bb6c1b1364fd9a548e64d138c6b15"
     }
    },
    "1127b972710143dbb7f697721c6cd345": {
     "model_module": "@jupyter-widgets/controls",
     "model_name": "HTMLModel",
     "model_module_version": "1.5.0",
     "state": {
      "_view_name": "HTMLView",
      "style": "IPY_MODEL_e2cbf6c7fca54b29b0adee917b52faa1",
      "_dom_classes": [],
      "description": "",
      "_model_name": "HTMLModel",
      "placeholder": "​",
      "_view_module": "@jupyter-widgets/controls",
      "_model_module_version": "1.5.0",
      "value": " 16/146 [00:27&lt;03:25,  1.58s/it]",
      "_view_count": null,
      "_view_module_version": "1.5.0",
      "description_tooltip": null,
      "_model_module": "@jupyter-widgets/controls",
      "layout": "IPY_MODEL_36eae5bf2ad04abcbf29115102d4b182"
     }
    },
    "dff31a75d9fb4398b9238653a76b34ed": {
     "model_module": "@jupyter-widgets/controls",
     "model_name": "DescriptionStyleModel",
     "model_module_version": "1.5.0",
     "state": {
      "_view_name": "StyleView",
      "_model_name": "DescriptionStyleModel",
      "description_width": "",
      "_view_module": "@jupyter-widgets/base",
      "_model_module_version": "1.5.0",
      "_view_count": null,
      "_view_module_version": "1.2.0",
      "_model_module": "@jupyter-widgets/controls"
     }
    },
    "6ee36118724f47d499c2e3467631ec42": {
     "model_module": "@jupyter-widgets/base",
     "model_name": "LayoutModel",
     "model_module_version": "1.2.0",
     "state": {
      "_view_name": "LayoutView",
      "grid_template_rows": null,
      "right": null,
      "justify_content": null,
      "_view_module": "@jupyter-widgets/base",
      "overflow": null,
      "_model_module_version": "1.2.0",
      "_view_count": null,
      "flex_flow": null,
      "width": null,
      "min_width": null,
      "border": null,
      "align_items": null,
      "bottom": null,
      "_model_module": "@jupyter-widgets/base",
      "top": null,
      "grid_column": null,
      "overflow_y": null,
      "overflow_x": null,
      "grid_auto_flow": null,
      "grid_area": null,
      "grid_template_columns": null,
      "flex": null,
      "_model_name": "LayoutModel",
      "justify_items": null,
      "grid_row": null,
      "max_height": null,
      "align_content": null,
      "visibility": null,
      "align_self": null,
      "height": null,
      "min_height": null,
      "padding": null,
      "grid_auto_rows": null,
      "grid_gap": null,
      "max_width": null,
      "order": null,
      "_view_module_version": "1.2.0",
      "grid_template_areas": null,
      "object_position": null,
      "object_fit": null,
      "grid_auto_columns": null,
      "margin": null,
      "display": null,
      "left": null
     }
    },
    "ba2b94d5a0d747f0ac7a6bcd55f3b25a": {
     "model_module": "@jupyter-widgets/controls",
     "model_name": "ProgressStyleModel",
     "model_module_version": "1.5.0",
     "state": {
      "_view_name": "StyleView",
      "_model_name": "ProgressStyleModel",
      "description_width": "",
      "_view_module": "@jupyter-widgets/base",
      "_model_module_version": "1.5.0",
      "_view_count": null,
      "_view_module_version": "1.2.0",
      "bar_color": null,
      "_model_module": "@jupyter-widgets/controls"
     }
    },
    "194bb6c1b1364fd9a548e64d138c6b15": {
     "model_module": "@jupyter-widgets/base",
     "model_name": "LayoutModel",
     "model_module_version": "1.2.0",
     "state": {
      "_view_name": "LayoutView",
      "grid_template_rows": null,
      "right": null,
      "justify_content": null,
      "_view_module": "@jupyter-widgets/base",
      "overflow": null,
      "_model_module_version": "1.2.0",
      "_view_count": null,
      "flex_flow": null,
      "width": null,
      "min_width": null,
      "border": null,
      "align_items": null,
      "bottom": null,
      "_model_module": "@jupyter-widgets/base",
      "top": null,
      "grid_column": null,
      "overflow_y": null,
      "overflow_x": null,
      "grid_auto_flow": null,
      "grid_area": null,
      "grid_template_columns": null,
      "flex": null,
      "_model_name": "LayoutModel",
      "justify_items": null,
      "grid_row": null,
      "max_height": null,
      "align_content": null,
      "visibility": null,
      "align_self": null,
      "height": null,
      "min_height": null,
      "padding": null,
      "grid_auto_rows": null,
      "grid_gap": null,
      "max_width": null,
      "order": null,
      "_view_module_version": "1.2.0",
      "grid_template_areas": null,
      "object_position": null,
      "object_fit": null,
      "grid_auto_columns": null,
      "margin": null,
      "display": null,
      "left": null
     }
    },
    "e2cbf6c7fca54b29b0adee917b52faa1": {
     "model_module": "@jupyter-widgets/controls",
     "model_name": "DescriptionStyleModel",
     "model_module_version": "1.5.0",
     "state": {
      "_view_name": "StyleView",
      "_model_name": "DescriptionStyleModel",
      "description_width": "",
      "_view_module": "@jupyter-widgets/base",
      "_model_module_version": "1.5.0",
      "_view_count": null,
      "_view_module_version": "1.2.0",
      "_model_module": "@jupyter-widgets/controls"
     }
    },
    "36eae5bf2ad04abcbf29115102d4b182": {
     "model_module": "@jupyter-widgets/base",
     "model_name": "LayoutModel",
     "model_module_version": "1.2.0",
     "state": {
      "_view_name": "LayoutView",
      "grid_template_rows": null,
      "right": null,
      "justify_content": null,
      "_view_module": "@jupyter-widgets/base",
      "overflow": null,
      "_model_module_version": "1.2.0",
      "_view_count": null,
      "flex_flow": null,
      "width": null,
      "min_width": null,
      "border": null,
      "align_items": null,
      "bottom": null,
      "_model_module": "@jupyter-widgets/base",
      "top": null,
      "grid_column": null,
      "overflow_y": null,
      "overflow_x": null,
      "grid_auto_flow": null,
      "grid_area": null,
      "grid_template_columns": null,
      "flex": null,
      "_model_name": "LayoutModel",
      "justify_items": null,
      "grid_row": null,
      "max_height": null,
      "align_content": null,
      "visibility": null,
      "align_self": null,
      "height": null,
      "min_height": null,
      "padding": null,
      "grid_auto_rows": null,
      "grid_gap": null,
      "max_width": null,
      "order": null,
      "_view_module_version": "1.2.0",
      "grid_template_areas": null,
      "object_position": null,
      "object_fit": null,
      "grid_auto_columns": null,
      "margin": null,
      "display": null,
      "left": null
     }
    }
   }
  }
 },
 "cells": [
  {
   "cell_type": "markdown",
   "metadata": {
    "id": "view-in-github",
    "colab_type": "text"
   },
   "source": [
    "<a href=\"https://colab.research.google.com/github/NielsRogge/Transformers-Tutorials/blob/master/TrOCR/Fine_tune_TrOCR_on_IAM_Handwriting_Database_using_native_PyTorch.ipynb\" target=\"_parent\"><img src=\"https://colab.research.google.com/assets/colab-badge.svg\" alt=\"Open In Colab\"/></a>"
   ]
  },
  {
   "cell_type": "code",
   "metadata": {
    "colab": {
     "base_uri": "https://localhost:8080/",
     "height": 204
    },
    "id": "KkHqJw-W9Abl",
    "outputId": "bb86ef54-2407-49f8-8859-106a9d733046",
    "ExecuteTime": {
     "end_time": "2024-03-01T01:17:10.818785300Z",
     "start_time": "2024-03-01T01:16:57.111523500Z"
    }
   },
   "source": [
    "import pandas as pd\n",
    "from pathlib import Path\n",
    "\n",
    "# get all the file names\n",
    "file_paths = [file_path for file_path in list(Path('./tibetan-dataset/transcript/').iterdir()) if file_path.suffix == '.csv']\n",
    "\n",
    "dfs = []\n",
    "\n",
    "for file_path in file_paths:\n",
    "    batch_name = file_path.name.removesuffix('.csv')\n",
    "    df = pd.read_csv(str(file_path), sep=',')\n",
    "    df['batch_name'] = batch_name\n",
    "    dfs.append(df)\n",
    "    \n",
    "df = pd.concat(dfs, ignore_index=True)\n",
    "\n",
    "# change the column name line_image_id to file_name\n",
    "df.rename(columns={'line_image_id': 'file_name'}, inplace=True)\n",
    "\n",
    "# some file names end with jp instead of jpg, let's fix this\n",
    "df.head()"
   ],
   "execution_count": 1,
   "outputs": [
    {
     "data": {
      "text/plain": "                               source           file_name  repo_name  \\\n0  W3CN4687/I3CN4689/I3CN46890004.jpg  I3CN46890004_0.jpg  I9655F3A0   \n1  W3CN4687/I3CN4689/I3CN46890016.tif  I3CN46890016_0.tif  I9655F3A0   \n2  W3CN4687/I3CN4689/I3CN46890016.tif  I3CN46890016_1.tif  I9655F3A0   \n3  W3CN4687/I3CN4689/I3CN46890016.tif  I3CN46890016_2.tif  I9655F3A0   \n4  W3CN4687/I3CN4689/I3CN46890016.tif  I3CN46890016_3.tif  I9655F3A0   \n\n                                                text batch_name  \n0               ཆོས་རྗེ་དམ་པ་ཡིད་བཞིན་ནོར་བུ་ལ་ན་མོ།    batch_1  \n1  བའི་མེ་ལོང་ལས། སྤུ་དེ་གུང་རྒྱལ་དང་རུ་ལས་སྐྱེས་...    batch_1  \n2  དུས་སུ་ཞང་ཞུང་གི་ཡུལ་ནས་བོན་བསྒྱུར་བར་བཤད་པས་ད...    batch_1  \n3  སྔོན་བོད་ལ་ཡི་གེ་ཡོད་པར་གྲུབ་ཅེས་སྨྲའོ། །དེའི་...    batch_1  \n4  སྐད་དུ་བསྒྱུར་ཏེ་ངག་སྒྲོས་ལ་དར་བ་ལས་བོད་ཀྱི་ཡི...    batch_1  ",
      "text/html": "<div>\n<style scoped>\n    .dataframe tbody tr th:only-of-type {\n        vertical-align: middle;\n    }\n\n    .dataframe tbody tr th {\n        vertical-align: top;\n    }\n\n    .dataframe thead th {\n        text-align: right;\n    }\n</style>\n<table border=\"1\" class=\"dataframe\">\n  <thead>\n    <tr style=\"text-align: right;\">\n      <th></th>\n      <th>source</th>\n      <th>file_name</th>\n      <th>repo_name</th>\n      <th>text</th>\n      <th>batch_name</th>\n    </tr>\n  </thead>\n  <tbody>\n    <tr>\n      <th>0</th>\n      <td>W3CN4687/I3CN4689/I3CN46890004.jpg</td>\n      <td>I3CN46890004_0.jpg</td>\n      <td>I9655F3A0</td>\n      <td>ཆོས་རྗེ་དམ་པ་ཡིད་བཞིན་ནོར་བུ་ལ་ན་མོ།</td>\n      <td>batch_1</td>\n    </tr>\n    <tr>\n      <th>1</th>\n      <td>W3CN4687/I3CN4689/I3CN46890016.tif</td>\n      <td>I3CN46890016_0.tif</td>\n      <td>I9655F3A0</td>\n      <td>བའི་མེ་ལོང་ལས། སྤུ་དེ་གུང་རྒྱལ་དང་རུ་ལས་སྐྱེས་...</td>\n      <td>batch_1</td>\n    </tr>\n    <tr>\n      <th>2</th>\n      <td>W3CN4687/I3CN4689/I3CN46890016.tif</td>\n      <td>I3CN46890016_1.tif</td>\n      <td>I9655F3A0</td>\n      <td>དུས་སུ་ཞང་ཞུང་གི་ཡུལ་ནས་བོན་བསྒྱུར་བར་བཤད་པས་ད...</td>\n      <td>batch_1</td>\n    </tr>\n    <tr>\n      <th>3</th>\n      <td>W3CN4687/I3CN4689/I3CN46890016.tif</td>\n      <td>I3CN46890016_2.tif</td>\n      <td>I9655F3A0</td>\n      <td>སྔོན་བོད་ལ་ཡི་གེ་ཡོད་པར་གྲུབ་ཅེས་སྨྲའོ། །དེའི་...</td>\n      <td>batch_1</td>\n    </tr>\n    <tr>\n      <th>4</th>\n      <td>W3CN4687/I3CN4689/I3CN46890016.tif</td>\n      <td>I3CN46890016_3.tif</td>\n      <td>I9655F3A0</td>\n      <td>སྐད་དུ་བསྒྱུར་ཏེ་ངག་སྒྲོས་ལ་དར་བ་ལས་བོད་ཀྱི་ཡི...</td>\n      <td>batch_1</td>\n    </tr>\n  </tbody>\n</table>\n</div>"
     },
     "execution_count": 1,
     "metadata": {},
     "output_type": "execute_result"
    }
   ]
  },
  {
   "cell_type": "markdown",
   "source": [
    "Run the below cell and if there are any file names that don't exist in the folder, it will print the file name. It's recommended to remove the rows that has the file name that doesn't exist in the folder. You can do this by uncommenting the last line in the below cell."
   ],
   "metadata": {
    "collapsed": false
   }
  },
  {
   "cell_type": "code",
   "execution_count": 6,
   "outputs": [
    {
     "name": "stdout",
     "output_type": "stream",
     "text": [
      "started\n"
     ]
    },
    {
     "data": {
      "text/plain": "  0%|          | 0/2599979 [00:00<?, ?it/s]",
      "application/vnd.jupyter.widget-view+json": {
       "version_major": 2,
       "version_minor": 0,
       "model_id": "bfb6833919fa47b88486af500ad66548"
      }
     },
     "metadata": {},
     "output_type": "display_data"
    }
   ],
   "source": [
    "# check if all the file names are in the folder and add batch_name to the file_name\n",
    "# I'm optimizing this code by saving the original image name and checking the next original image name is the same as the previous one. If it's the same, then we don't need to check if the file exists in the folder. If it's different, then we need to check if the file exists in the folder.\n",
    "import os\n",
    "from tqdm.notebook import tqdm\n",
    "original_image_name = ''\n",
    "thumbs_up = True\n",
    "potential_missing_files = []\n",
    "print('started')\n",
    "for row in tqdm(df.iterrows(), total=df.shape[0]):\n",
    "    file_name = row[1]['file_name']\n",
    "    this_original_image_name = file_name.split('_')[0]\n",
    "    if this_original_image_name != original_image_name:\n",
    "        original_image_name = this_original_image_name\n",
    "        batch_name = row[1]['batch_name']\n",
    "        if not os.path.isfile('./tibetan-dataset/train/' + batch_name + '/' + file_name):\n",
    "            thumbs_up = False\n",
    "            potential_missing_files.append(file_name)\n",
    "        else:\n",
    "            thumbs_up = True\n",
    "    else:\n",
    "        if not thumbs_up:\n",
    "            potential_missing_files.append(file_name)\n",
    "            \n",
    "    "
   ],
   "metadata": {
    "collapsed": false,
    "ExecuteTime": {
     "end_time": "2024-03-01T01:29:25.529498600Z",
     "start_time": "2024-03-01T01:26:25.121901700Z"
    }
   }
  },
  {
   "cell_type": "code",
   "execution_count": 7,
   "outputs": [],
   "source": [
    "# remove the rows that has the file name that doesn't exist in the folder\n",
    "# df = df[~df['file_name'].isin(potential_missing_files)]"
   ],
   "metadata": {
    "collapsed": false,
    "ExecuteTime": {
     "end_time": "2024-03-01T01:29:30.001693400Z",
     "start_time": "2024-03-01T01:29:28.479755100Z"
    }
   }
  },
  {
   "cell_type": "markdown",
   "metadata": {
    "id": "qJlVYVal9Ojy"
   },
   "source": [
    "We split up the data into training + testing, using sklearn's `train_test_split` function."
   ]
  },
  {
   "cell_type": "code",
   "execution_count": 39,
   "outputs": [
    {
     "data": {
      "text/plain": "False"
     },
     "execution_count": 39,
     "metadata": {},
     "output_type": "execute_result"
    }
   ],
   "source": [
    "# check if a specific file name exists in df['file_name']\n",
    "df['file_name'].str.contains('20-1-59b_line_9874_3.jpg').any()"
   ],
   "metadata": {
    "collapsed": false,
    "ExecuteTime": {
     "end_time": "2024-03-01T01:34:15.246234400Z",
     "start_time": "2024-03-01T01:34:15.229231600Z"
    }
   }
  },
  {
   "cell_type": "code",
   "metadata": {
    "id": "6qLVT1TPN8Nt",
    "ExecuteTime": {
     "end_time": "2024-03-01T01:34:15.304236600Z",
     "start_time": "2024-03-01T01:34:15.246234400Z"
    }
   },
   "source": [
    "from sklearn.model_selection import train_test_split\n",
    "\n",
    "train_df, test_df = train_test_split(df, test_size=0.2)\n",
    "# we reset the indices to start from zero\n",
    "train_df.reset_index(drop=True, inplace=True)\n",
    "test_df.reset_index(drop=True, inplace=True)"
   ],
   "execution_count": 40,
   "outputs": []
  },
  {
   "cell_type": "markdown",
   "source": [],
   "metadata": {
    "collapsed": false
   }
  },
  {
   "cell_type": "markdown",
   "metadata": {
    "id": "fwlEBh6B9RTE"
   },
   "source": [
    "Each element of the dataset should return 2 things:\n",
    "* `pixel_values`, which serve as input to the model.\n",
    "* `labels`, which are the `input_ids` of the corresponding text in the image.\n",
    "\n",
    "We use `TrOCRProcessor` to prepare the data for the model. `TrOCRProcessor` is actually just a wrapper around a `ViTFeatureExtractor` (which can be used to resize + normalize images) and a `RobertaTokenizer` (which can be used to encode and decode text into/from `input_ids`). "
   ]
  },
  {
   "cell_type": "code",
   "metadata": {
    "id": "qO5Q8WYp7DLx",
    "ExecuteTime": {
     "end_time": "2024-03-01T01:34:19.333294Z",
     "start_time": "2024-03-01T01:34:19.288288900Z"
    }
   },
   "source": [
    "import torch\n",
    "from torch.utils.data import Dataset\n",
    "\n",
    "\n",
    "class TibetanImageLinePairDataset(Dataset):\n",
    "    def __init__(self, root_dir, df, processor, max_target_length=512):\n",
    "        self.root_dir = root_dir\n",
    "        self.df = df\n",
    "        self.processor = processor\n",
    "        self.max_target_length = max_target_length\n",
    "\n",
    "    def __len__(self):\n",
    "        return len(self.df)\n",
    "\n",
    "    def __getitem__(self, idx):\n",
    "        # get file name + text \n",
    "        file_name = self.df['file_name'][idx]\n",
    "        folder_name = self.df['batch_name'][idx] + '/'\n",
    "        text = self.df['text'][idx]\n",
    "        # prepare image (i.e. resize + normalize)\n",
    "        image = Image.open(self.root_dir + folder_name + file_name).convert(\"RGB\")\n",
    "        pixel_values = self.processor(image, return_tensors=\"pt\").pixel_values\n",
    "        # add labels (input_ids) by encoding the text\n",
    "        labels = self.processor.tokenizer(text, \n",
    "                                          padding=\"max_length\", \n",
    "                                          max_length=self.max_target_length).input_ids\n",
    "        # important: make sure that PAD tokens are ignored by the loss function\n",
    "        labels = [label if label != self.processor.tokenizer.pad_token_id else -100 for label in labels]\n",
    "\n",
    "        encoding = {\"pixel_values\": pixel_values.squeeze(), \"labels\": torch.tensor(labels)}\n",
    "        return encoding"
   ],
   "execution_count": 41,
   "outputs": []
  },
  {
   "cell_type": "code",
   "execution_count": 42,
   "outputs": [],
   "source": [
    "encode, decode = \"google/vit-base-patch16-224-in21k\", \"sangjeedondrub/tibetan-roberta-base\""
   ],
   "metadata": {
    "collapsed": false,
    "ExecuteTime": {
     "end_time": "2024-03-01T01:34:19.334288600Z",
     "start_time": "2024-03-01T01:34:19.319288Z"
    }
   }
  },
  {
   "cell_type": "markdown",
   "metadata": {
    "id": "yzL7C60c-v-B"
   },
   "source": [
    "Let's initialize the training and evaluation datasets:"
   ]
  },
  {
   "cell_type": "code",
   "metadata": {
    "id": "KIa78c2W8uT9",
    "ExecuteTime": {
     "end_time": "2024-03-01T01:34:19.536527200Z",
     "start_time": "2024-03-01T01:34:19.336289800Z"
    }
   },
   "source": [
    "from transformers import TrOCRProcessor, ViTImageProcessor, RobertaTokenizer\n",
    "\n",
    "feature_extractor=ViTImageProcessor.from_pretrained(encode)\n",
    "tokenizer = RobertaTokenizer.from_pretrained(decode)\n",
    "print(tokenizer.vocab_size)\n",
    "processor = TrOCRProcessor(image_processor=feature_extractor, tokenizer=tokenizer)\n",
    "train_dataset = TibetanImageLinePairDataset(root_dir='./tibetan-dataset/train/',\n",
    "                                            df=train_df[:len(train_df)],\n",
    "                                            processor=processor)\n",
    "eval_dataset = TibetanImageLinePairDataset(root_dir='./tibetan-dataset/train/',\n",
    "                                           df=test_df[:len(test_df)],\n",
    "                                           processor=processor)"
   ],
   "execution_count": 43,
   "outputs": [
    {
     "name": "stdout",
     "output_type": "stream",
     "text": [
      "22869\n"
     ]
    }
   ]
  },
  {
   "cell_type": "code",
   "metadata": {
    "colab": {
     "base_uri": "https://localhost:8080/"
    },
    "id": "PiwZLbMeLCfo",
    "outputId": "033d6406-68a5-4e98-8d4b-5504bcc7d88b",
    "ExecuteTime": {
     "end_time": "2024-03-01T01:34:19.591522700Z",
     "start_time": "2024-03-01T01:34:19.537523500Z"
    }
   },
   "source": [
    "print(\"Number of training examples:\", len(train_dataset))\n",
    "print(\"Number of validation examples:\", len(eval_dataset))"
   ],
   "execution_count": 44,
   "outputs": [
    {
     "name": "stdout",
     "output_type": "stream",
     "text": [
      "Number of training examples: 80\n",
      "Number of validation examples: 20\n"
     ]
    }
   ]
  },
  {
   "cell_type": "markdown",
   "metadata": {
    "id": "7p8JfQrx-6EM"
   },
   "source": [
    "Let's verify an example from the training dataset:"
   ]
  },
  {
   "cell_type": "code",
   "metadata": {
    "colab": {
     "base_uri": "https://localhost:8080/"
    },
    "id": "rwBNrfD78RA7",
    "outputId": "a11d4087-6b82-4389-eb4c-f7bf1862b117",
    "ExecuteTime": {
     "end_time": "2024-03-01T01:34:22.500205200Z",
     "start_time": "2024-03-01T01:34:22.463205500Z"
    }
   },
   "source": [
    "from PIL import Image\n",
    "encoding = train_dataset[0]\n",
    "for k,v in encoding.items():\n",
    "  print(k, v.shape)"
   ],
   "execution_count": 45,
   "outputs": [
    {
     "name": "stdout",
     "output_type": "stream",
     "text": [
      "pixel_values torch.Size([3, 224, 224])\n",
      "labels torch.Size([512])\n"
     ]
    }
   ]
  },
  {
   "cell_type": "markdown",
   "metadata": {
    "id": "lN-3pf6T_uRe"
   },
   "source": [
    "We can also check the original image and decode the labels:"
   ]
  },
  {
   "cell_type": "code",
   "execution_count": 46,
   "outputs": [
    {
     "data": {
      "text/plain": "'I3CN46890025_14.tif'"
     },
     "execution_count": 46,
     "metadata": {},
     "output_type": "execute_result"
    }
   ],
   "source": [
    "train_df['file_name'][0]"
   ],
   "metadata": {
    "collapsed": false,
    "ExecuteTime": {
     "end_time": "2024-03-01T01:34:25.940349600Z",
     "start_time": "2024-03-01T01:34:25.926348700Z"
    }
   }
  },
  {
   "cell_type": "code",
   "metadata": {
    "colab": {
     "base_uri": "https://localhost:8080/",
     "height": 89
    },
    "id": "QzgOFgD4_7Kw",
    "outputId": "a52bcf03-2c78-4332-bdb6-033299b386ca",
    "ExecuteTime": {
     "end_time": "2024-03-01T01:34:25.985042300Z",
     "start_time": "2024-03-01T01:34:25.942350400Z"
    }
   },
   "source": [
    "image = Image.open(train_dataset.root_dir + train_df['batch_name'][0] + '/' + train_df['file_name'][0]).convert(\"RGB\")\n",
    "image"
   ],
   "execution_count": 47,
   "outputs": [
    {
     "data": {
      "text/plain": "<PIL.Image.Image image mode=RGB size=806x80>",
      "image/png": "[encoded data removed]",
      "image/jpeg": "[encoded data removed]"
     },
     "execution_count": 47,
     "metadata": {},
     "output_type": "execute_result"
    }
   ]
  },
  {
   "cell_type": "code",
   "metadata": {
    "colab": {
     "base_uri": "https://localhost:8080/"
    },
    "id": "vMtfkDia-8tQ",
    "outputId": "f4035a12-75f8-4d79-f4c6-593179393e45",
    "ExecuteTime": {
     "end_time": "2024-03-01T01:34:28.765543200Z",
     "start_time": "2024-03-01T01:34:28.750544300Z"
    }
   },
   "source": [
    "labels = encoding['labels']\n",
    "labels[labels == -100] = processor.tokenizer.pad_token_id\n",
    "label_str = processor.decode(labels, skip_special_tokens=True)\n",
    "print(label_str)"
   ],
   "execution_count": 48,
   "outputs": [
    {
     "name": "stdout",
     "output_type": "stream",
     "text": [
      "མེ་དང་གསུམ། མོན་རྫུ་ནག་པོ་ཁྱིའི་རྔ་ལྗང་ཅན་དང་བཞིར་དབྱེ་བ་\n"
     ]
    }
   ]
  },
  {
   "cell_type": "markdown",
   "metadata": {
    "id": "OEX6mHrn8zz4"
   },
   "source": [
    "Let's create corresponding dataloaders:"
   ]
  },
  {
   "cell_type": "markdown",
   "source": [
    "## Prepare data\n",
    "\n",
    "Let's make a [regular PyTorch dataset](https://pytorch.org/tutorials/beginner/basics/data_tutorial.html). We first create a Pandas dataframe with 2 columns. Each row consists of the file name of an image, and the corresponding text."
   ],
   "metadata": {
    "collapsed": false
   }
  },
  {
   "cell_type": "code",
   "metadata": {
    "id": "8zXpxhJx81Ru",
    "ExecuteTime": {
     "end_time": "2024-03-01T01:34:31.863313700Z",
     "start_time": "2024-03-01T01:34:31.833314100Z"
    }
   },
   "source": [
    "\n",
    "from torch.utils.data import DataLoader\n",
    "\n",
    "train_dataloader = DataLoader(train_dataset, batch_size=4, shuffle=True)\n",
    "eval_dataloader = DataLoader(eval_dataset, batch_size=4)"
   ],
   "execution_count": 49,
   "outputs": []
  },
  {
   "cell_type": "markdown",
   "metadata": {
    "id": "XxU7TfoYBvg0"
   },
   "source": [
    "## Train a model\n",
    "\n",
    "Here, we initialize the TrOCR model from its pretrained weights. Note that the weights of the language modeling head are already initialized from pre-training, as the model was already trained to generate text during its pre-training stage. Refer to the paper for details."
   ]
  },
  {
   "cell_type": "code",
   "execution_count": 50,
   "outputs": [],
   "source": [
    "use_existing_model = True\n",
    "model_name = \"test\""
   ],
   "metadata": {
    "collapsed": false,
    "ExecuteTime": {
     "end_time": "2024-03-01T01:34:35.318642800Z",
     "start_time": "2024-03-01T01:34:35.303601200Z"
    }
   }
  },
  {
   "cell_type": "code",
   "metadata": {
    "colab": {
     "base_uri": "https://localhost:8080/"
    },
    "id": "bRhvTRrGBIfy",
    "outputId": "6314dcd2-4240-4d5b-ec18-3ef2b1e78cc7",
    "ExecuteTime": {
     "end_time": "2024-03-01T01:34:39.929326900Z",
     "start_time": "2024-03-01T01:34:35.321604800Z"
    }
   },
   "source": [
    "from transformers import VisionEncoderDecoderModel\n",
    "import torch\n",
    "\n",
    "device = torch.device(\"cuda\" if torch.cuda.is_available() else \"cpu\")\n",
    "print(device)\n",
    "if use_existing_model:\n",
    "    model = VisionEncoderDecoderModel.from_pretrained(model_name)\n",
    "else:\n",
    "    model = VisionEncoderDecoderModel.from_encoder_decoder_pretrained(encode, decode)\n",
    "\n",
    "model.to(device)\n",
    "\n",
    "assert model.config.decoder.is_decoder is True\n",
    "assert model.config.decoder.add_cross_attention is True"
   ],
   "execution_count": 51,
   "outputs": [
    {
     "name": "stdout",
     "output_type": "stream",
     "text": [
      "cuda\n"
     ]
    }
   ]
  },
  {
   "cell_type": "markdown",
   "metadata": {
    "id": "UqNELu3cQix5"
   },
   "source": [
    "Importantly, we need to set a couple of attributes, namely:\n",
    "* the attributes required for creating the `decoder_input_ids` from the `labels` (the model will automatically create the `decoder_input_ids` by shifting the `labels` one position to the right and prepending the `decoder_start_token_id`, as well as replacing ids which are -100 by the pad_token_id)\n",
    "* the vocabulary size of the model (for the language modeling head on top of the decoder)\n",
    "* beam-search related parameters which are used when generating text."
   ]
  },
  {
   "cell_type": "code",
   "metadata": {
    "id": "sNNT1XS_CMgl",
    "ExecuteTime": {
     "end_time": "2024-03-01T01:34:39.943325800Z",
     "start_time": "2024-03-01T01:34:39.932324700Z"
    }
   },
   "source": [
    "# set special tokens used for creating the decoder_input_ids from the labels\n",
    "model.config.decoder_start_token_id = processor.tokenizer.cls_token_id\n",
    "model.config.pad_token_id = processor.tokenizer.pad_token_id\n",
    "# make sure vocab size is set correctly\n",
    "model.config.vocab_size = model.config.decoder.vocab_size\n",
    "\n",
    "# set beam search parameters\n",
    "model.config.eos_token_id = processor.tokenizer.sep_token_id\n",
    "model.config.max_length = 512\n",
    "model.config.early_stopping = True\n",
    "model.config.no_repeat_ngram_size = 3\n",
    "model.config.length_penalty = 2.5\n",
    "model.config.num_beams = 4\n"
   ],
   "execution_count": 52,
   "outputs": []
  },
  {
   "cell_type": "markdown",
   "metadata": {
    "id": "nV6KY53xvOgC"
   },
   "source": [
    "We will evaluate the model on the Character Error Rate (CER), which is available in HuggingFace Datasets (see [here](https://huggingface.co/metrics/cer))."
   ]
  },
  {
   "cell_type": "code",
   "metadata": {
    "id": "yoXD3_P10DD4",
    "ExecuteTime": {
     "end_time": "2024-03-01T01:34:40.130994900Z",
     "start_time": "2024-03-01T01:34:39.946325500Z"
    }
   },
   "source": [
    "from datasets import load_metric\n",
    "\n",
    "cer_metric = load_metric(\"cer\")"
   ],
   "execution_count": 53,
   "outputs": [
    {
     "name": "stderr",
     "output_type": "stream",
     "text": [
      "C:\\Users\\301212298\\AppData\\Local\\pypoetry\\Cache\\virtualenvs\\trocr-tibetan-fine-tuning-OTNbRY7o-py3.10\\lib\\site-packages\\datasets\\load.py:753: FutureWarning: The repository for cer contains custom code which must be executed to correctly load the metric. You can inspect the repository content at https://raw.githubusercontent.com/huggingface/datasets/2.17.1/metrics/cer/cer.py\n",
      "You can avoid this message in future by passing the argument `trust_remote_code=True`.\n",
      "Passing `trust_remote_code=True` will be mandatory to load this metric from the next major release of `datasets`.\n",
      "  warnings.warn(\n"
     ]
    }
   ]
  },
  {
   "cell_type": "code",
   "metadata": {
    "id": "Y36AcnvP0OZw",
    "ExecuteTime": {
     "end_time": "2024-03-01T01:34:42.940033700Z",
     "start_time": "2024-03-01T01:34:42.925036200Z"
    }
   },
   "source": [
    "def compute_cer(pred_ids, label_ids):\n",
    "    pred_str = processor.batch_decode(pred_ids, skip_special_tokens=True)\n",
    "    label_ids[label_ids == -100] = processor.tokenizer.pad_token_id\n",
    "    label_str = processor.batch_decode(label_ids, skip_special_tokens=True)\n",
    "\n",
    "    cer = cer_metric.compute(predictions=pred_str, references=label_str)\n",
    "\n",
    "    return cer"
   ],
   "execution_count": 54,
   "outputs": []
  },
  {
   "cell_type": "code",
   "metadata": {
    "colab": {
     "base_uri": "https://localhost:8080/",
     "height": 473,
     "referenced_widgets": [
      "e4297a2c10e846b7a8dd67a0e675bc27",
      "a8c51dcfcd0e446b9e637a75cc6f1f4a",
      "530908dd92ce4fcc8ad0e4a3872018fd",
      "77ad0e900327449bbd84fa13ab836cb8",
      "3db97545836b48c7861c49e180120f2d",
      "fd851d6769c94ffba7824e7022edb5af",
      "ff3d0c0258bf430895a70e590491ee8b",
      "0aacf74aaf85475aaae9e399755b493b",
      "937ac0758b1d43918504dbd21dc240e4",
      "c5b9f7d529194837a2b39d68b28fcf1c",
      "ba707c27af6d42d3a172135ccb884a0c",
      "fe52ce398c58473d9c759e2d7c7de88a",
      "735997f4f6c3410498238e96ae319a7a",
      "822b7c76a120459793c167a3452e1609",
      "58d748c254684d91a815c2b681ec8f27",
      "1127b972710143dbb7f697721c6cd345",
      "dff31a75d9fb4398b9238653a76b34ed",
      "6ee36118724f47d499c2e3467631ec42",
      "ba2b94d5a0d747f0ac7a6bcd55f3b25a",
      "194bb6c1b1364fd9a548e64d138c6b15",
      "e2cbf6c7fca54b29b0adee917b52faa1",
      "36eae5bf2ad04abcbf29115102d4b182"
     ]
    },
    "id": "CzGJpRrl8qlk",
    "outputId": "cfb1db24-20f8-4ba8-eb44-1546da6e8e59",
    "ExecuteTime": {
     "end_time": "2024-03-01T01:42:03.687619600Z",
     "start_time": "2024-03-01T01:35:31.103397800Z"
    }
   },
   "source": [
    "from transformers import AdamW\n",
    "from tqdm.notebook import tqdm\n",
    "import datetime\n",
    "\n",
    "optimizer = torch.optim.AdamW(model.parameters(), lr=5e-5)\n",
    "best_cer = 10.0\n",
    "date = datetime.datetime.now().strftime(\"%Y-%m-%d_%H-%M-%S\")\n",
    "\n",
    "for epoch in range(10):  # loop over the dataset multiple times\n",
    "   # train\n",
    "   model.train()\n",
    "   train_loss = 0.0\n",
    "   for batch in tqdm(train_dataloader):\n",
    "      # get the inputs\n",
    "      for k,v in batch.items():\n",
    "        batch[k] = v.to(device)\n",
    "\n",
    "      # forward + backward + optimize\n",
    "      outputs = model(**batch)\n",
    "      loss = outputs.loss\n",
    "      loss.backward()\n",
    "      optimizer.step()\n",
    "      optimizer.zero_grad()\n",
    "\n",
    "      train_loss += loss.item()\n",
    "\n",
    "   print(f\"Loss after epoch {epoch}:\", train_loss/len(train_dataloader))\n",
    "    \n",
    "   # evaluate\n",
    "   model.eval()\n",
    "   valid_cer = 0.0\n",
    "   with torch.no_grad():\n",
    "     for batch in tqdm(eval_dataloader):\n",
    "       # run batch generation\n",
    "       outputs = model.generate(batch[\"pixel_values\"].to(device))\n",
    "       # compute metrics\n",
    "       cer = compute_cer(pred_ids=outputs, label_ids=batch[\"labels\"])\n",
    "       valid_cer += cer \n",
    "\n",
    "   print(\"Validation CER:\", valid_cer / len(eval_dataloader))\n",
    "   if valid_cer < best_cer:\n",
    "       print('Updating the best model')\n",
    "       best_cer = valid_cer\n",
    "       model.save_pretrained(f\"best_model_{date}\")\n",
    "   \n",
    "\n",
    "model.save_pretrained(f\"test_{date}\")"
   ],
   "execution_count": 56,
   "outputs": [
    {
     "data": {
      "text/plain": "  0%|          | 0/20 [00:00<?, ?it/s]",
      "application/vnd.jupyter.widget-view+json": {
       "version_major": 2,
       "version_minor": 0,
       "model_id": "b8be0ad514b6478e98c9dc371d18cfcd"
      }
     },
     "metadata": {},
     "output_type": "display_data"
    },
    {
     "name": "stdout",
     "output_type": "stream",
     "text": [
      "Loss after epoch 0: 0.006828103504085447\n"
     ]
    },
    {
     "data": {
      "text/plain": "  0%|          | 0/5 [00:00<?, ?it/s]",
      "application/vnd.jupyter.widget-view+json": {
       "version_major": 2,
       "version_minor": 0,
       "model_id": "c64ae0da88f84be585b2cd5c09843492"
      }
     },
     "metadata": {},
     "output_type": "display_data"
    },
    {
     "name": "stderr",
     "output_type": "stream",
     "text": [
      "Some non-default generation parameters are set in the model config. These should go into a GenerationConfig file (https://huggingface.co/docs/transformers/generation_strategies#save-a-custom-decoding-strategy-with-your-model) instead. This warning will be raised to an exception in v4.41.\n",
      "Non-default generation parameters: {'max_length': 512, 'early_stopping': True, 'num_beams': 4, 'length_penalty': 2.5, 'no_repeat_ngram_size': 3}\n",
      "Removed shared tensor {'decoder.lm_head.decoder.bias', 'decoder.lm_head.decoder.weight'} while saving. This should be OK, but check by verifying that you don't receive any warning while reloading\n"
     ]
    },
    {
     "name": "stdout",
     "output_type": "stream",
     "text": [
      "Validation CER: 0.01590926137661252\n",
      "Updating the best model\n",
      "Saving the epoch weights\n"
     ]
    },
    {
     "data": {
      "text/plain": "  0%|          | 0/20 [00:00<?, ?it/s]",
      "application/vnd.jupyter.widget-view+json": {
       "version_major": 2,
       "version_minor": 0,
       "model_id": "cc44e42c04184a049ff9a66fe15e02e2"
      }
     },
     "metadata": {},
     "output_type": "display_data"
    },
    {
     "name": "stdout",
     "output_type": "stream",
     "text": [
      "Loss after epoch 1: 0.003894983274949482\n"
     ]
    },
    {
     "data": {
      "text/plain": "  0%|          | 0/5 [00:00<?, ?it/s]",
      "application/vnd.jupyter.widget-view+json": {
       "version_major": 2,
       "version_minor": 0,
       "model_id": "da16da66a939492c9e3df9f9232347fd"
      }
     },
     "metadata": {},
     "output_type": "display_data"
    },
    {
     "name": "stdout",
     "output_type": "stream",
     "text": [
      "Validation CER: 0.01679815026550141\n",
      "Saving the epoch weights\n"
     ]
    },
    {
     "data": {
      "text/plain": "  0%|          | 0/20 [00:00<?, ?it/s]",
      "application/vnd.jupyter.widget-view+json": {
       "version_major": 2,
       "version_minor": 0,
       "model_id": "87978eeb446a48389d8725b5d46b4c40"
      }
     },
     "metadata": {},
     "output_type": "display_data"
    },
    {
     "name": "stdout",
     "output_type": "stream",
     "text": [
      "Loss after epoch 2: 0.0013555221616115888\n"
     ]
    },
    {
     "data": {
      "text/plain": "  0%|          | 0/5 [00:00<?, ?it/s]",
      "application/vnd.jupyter.widget-view+json": {
       "version_major": 2,
       "version_minor": 0,
       "model_id": "5b603fb78ef74eb0bae9a50ebe81bc2a"
      }
     },
     "metadata": {},
     "output_type": "display_data"
    },
    {
     "name": "stderr",
     "output_type": "stream",
     "text": [
      "Some non-default generation parameters are set in the model config. These should go into a GenerationConfig file (https://huggingface.co/docs/transformers/generation_strategies#save-a-custom-decoding-strategy-with-your-model) instead. This warning will be raised to an exception in v4.41.\n",
      "Non-default generation parameters: {'max_length': 512, 'early_stopping': True, 'num_beams': 4, 'length_penalty': 2.5, 'no_repeat_ngram_size': 3}\n"
     ]
    },
    {
     "name": "stdout",
     "output_type": "stream",
     "text": [
      "Validation CER: 0.014947722915074063\n",
      "Updating the best model\n",
      "Saving the epoch weights\n"
     ]
    },
    {
     "data": {
      "text/plain": "  0%|          | 0/20 [00:00<?, ?it/s]",
      "application/vnd.jupyter.widget-view+json": {
       "version_major": 2,
       "version_minor": 0,
       "model_id": "d9b725afdf0c4ed88a1bd1f92eb7ffe4"
      }
     },
     "metadata": {},
     "output_type": "display_data"
    },
    {
     "ename": "KeyboardInterrupt",
     "evalue": "",
     "output_type": "error",
     "traceback": [
      "\u001B[1;31m---------------------------------------------------------------------------\u001B[0m",
      "\u001B[1;31mKeyboardInterrupt\u001B[0m                         Traceback (most recent call last)",
      "Cell \u001B[1;32mIn[56], line 25\u001B[0m\n\u001B[0;32m     22\u001B[0m    optimizer\u001B[38;5;241m.\u001B[39mstep()\n\u001B[0;32m     23\u001B[0m    optimizer\u001B[38;5;241m.\u001B[39mzero_grad()\n\u001B[1;32m---> 25\u001B[0m    train_loss \u001B[38;5;241m+\u001B[39m\u001B[38;5;241m=\u001B[39m loss\u001B[38;5;241m.\u001B[39mitem()\n\u001B[0;32m     27\u001B[0m \u001B[38;5;28mprint\u001B[39m(\u001B[38;5;124mf\u001B[39m\u001B[38;5;124m\"\u001B[39m\u001B[38;5;124mLoss after epoch \u001B[39m\u001B[38;5;132;01m{\u001B[39;00mepoch\u001B[38;5;132;01m}\u001B[39;00m\u001B[38;5;124m:\u001B[39m\u001B[38;5;124m\"\u001B[39m, train_loss\u001B[38;5;241m/\u001B[39m\u001B[38;5;28mlen\u001B[39m(train_dataloader))\n\u001B[0;32m     29\u001B[0m \u001B[38;5;66;03m# evaluate\u001B[39;00m\n",
      "\u001B[1;31mKeyboardInterrupt\u001B[0m: "
     ]
    }
   ]
  },
  {
   "cell_type": "markdown",
   "metadata": {
    "id": "q8tduj2fBGQK"
   },
   "source": [
    "## Inference\n",
    "\n",
    "Note that after training, you can easily load the model using the .`from_pretrained(output_dir)` method.\n",
    "\n",
    "For inference on new images, I refer to my inference notebook, that can also be found in my [Transformers Tutorials repository](https://github.com/NielsRogge/Transformers-Tutorials) on Github."
   ]
  },
  {
   "cell_type": "code",
   "execution_count": null,
   "outputs": [],
   "source": [],
   "metadata": {
    "collapsed": false
   }
  }
 ]
}
