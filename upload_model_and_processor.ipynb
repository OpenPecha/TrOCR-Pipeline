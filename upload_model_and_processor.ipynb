{
 "cells": [
  {
   "cell_type": "code",
   "execution_count": 1,
   "id": "fed7b981-7960-44f8-8c57-ad63ddac2e39",
   "metadata": {},
   "outputs": [
    {
     "name": "stdout",
     "output_type": "stream",
     "text": [
      "Requirement already satisfied: huggingface_hub in /opt/conda/lib/python3.10/site-packages (0.23.0.dev0)\n",
      "Requirement already satisfied: transformers in /opt/conda/lib/python3.10/site-packages (4.40.2)\n",
      "Requirement already satisfied: filelock in /opt/conda/lib/python3.10/site-packages (from huggingface_hub) (3.13.1)\n",
      "Requirement already satisfied: fsspec>=2023.5.0 in /opt/conda/lib/python3.10/site-packages (from huggingface_hub) (2024.2.0)\n",
      "Requirement already satisfied: packaging>=20.9 in /opt/conda/lib/python3.10/site-packages (from huggingface_hub) (23.1)\n",
      "Requirement already satisfied: pyyaml>=5.1 in /opt/conda/lib/python3.10/site-packages (from huggingface_hub) (6.0.1)\n",
      "Requirement already satisfied: requests in /opt/conda/lib/python3.10/site-packages (from huggingface_hub) (2.31.0)\n",
      "Requirement already satisfied: tqdm>=4.42.1 in /opt/conda/lib/python3.10/site-packages (from huggingface_hub) (4.65.0)\n",
      "Requirement already satisfied: typing-extensions>=3.7.4.3 in /opt/conda/lib/python3.10/site-packages (from huggingface_hub) (4.9.0)\n",
      "Requirement already satisfied: numpy>=1.17 in /opt/conda/lib/python3.10/site-packages (from transformers) (1.26.3)\n",
      "Requirement already satisfied: regex!=2019.12.17 in /opt/conda/lib/python3.10/site-packages (from transformers) (2024.4.28)\n",
      "Requirement already satisfied: tokenizers<0.20,>=0.19 in /opt/conda/lib/python3.10/site-packages (from transformers) (0.19.1)\n",
      "Requirement already satisfied: safetensors>=0.4.1 in /opt/conda/lib/python3.10/site-packages (from transformers) (0.4.3)\n",
      "Requirement already satisfied: charset-normalizer<4,>=2 in /opt/conda/lib/python3.10/site-packages (from requests->huggingface_hub) (2.0.4)\n",
      "Requirement already satisfied: idna<4,>=2.5 in /opt/conda/lib/python3.10/site-packages (from requests->huggingface_hub) (3.4)\n",
      "Requirement already satisfied: urllib3<3,>=1.21.1 in /opt/conda/lib/python3.10/site-packages (from requests->huggingface_hub) (2.1.0)\n",
      "Requirement already satisfied: certifi>=2017.4.17 in /opt/conda/lib/python3.10/site-packages (from requests->huggingface_hub) (2024.2.2)\n",
      "\u001b[33mWARNING: Running pip as the 'root' user can result in broken permissions and conflicting behaviour with the system package manager. It is recommended to use a virtual environment instead: https://pip.pypa.io/warnings/venv\u001b[0m\u001b[33m\n",
      "\u001b[0m"
     ]
    }
   ],
   "source": [
    "!pip install huggingface_hub transformers"
   ]
  },
  {
   "cell_type": "code",
   "execution_count": 7,
   "id": "ed39eca0-c82b-485e-be32-9e44c014325d",
   "metadata": {},
   "outputs": [],
   "source": [
    "from transformers import TrOCRProcessor, ViTImageProcessor, RobertaTokenizer, TrOCRForCausalLM\n",
    "from huggingface_hub import HfApi, HfFolder, Repository, create_repo, login"
   ]
  },
  {
   "cell_type": "code",
   "execution_count": 8,
   "id": "bcc792ee-a336-43bd-8fda-51adb72e7b71",
   "metadata": {},
   "outputs": [],
   "source": [
    "model_dir = \"/TrOCR-Pipeline/TrOCR-Tibetan/checkpoint-48000\"\n",
    "hf_repo_name = \"ta4tsering/Lhasa_Kanjur_TrOCR_model\""
   ]
  },
  {
   "cell_type": "code",
   "execution_count": 9,
   "id": "e00254ed-29ed-4aaf-968f-157c3c43e720",
   "metadata": {},
   "outputs": [
    {
     "name": "stdout",
     "output_type": "stream",
     "text": [
      "The token has not been saved to the git credentials helper. Pass `add_to_git_credential=True` in this function directly or `--add-to-git-credential` if using via `huggingface-cli` if you want to set the git credential as well.\n",
      "Token is valid (permission: fineGrained).\n",
      "Your token has been saved to /root/.cache/huggingface/token\n",
      "Login successful\n"
     ]
    }
   ],
   "source": [
    "token = \"\"# Replace this with your actual Hugging Face token\n",
    "login(token=token)"
   ]
  },
  {
   "cell_type": "code",
   "execution_count": 11,
   "id": "1d5f96a2-dc27-48b8-9060-7a1ad61a7a92",
   "metadata": {},
   "outputs": [
    {
     "name": "stderr",
     "output_type": "stream",
     "text": [
      "/opt/conda/lib/python3.10/site-packages/huggingface_hub/file_download.py:1132: FutureWarning: `resume_download` is deprecated and will be removed in version 1.0.0. Downloads always resume when possible. If you want to force a new download, use `force_download=True`.\n",
      "  warnings.warn(\n",
      "Some non-default generation parameters are set in the model config. These should go into a GenerationConfig file (https://huggingface.co/docs/transformers/generation_strategies#save-a-custom-decoding-strategy-with-your-model) instead. This warning will be raised to an exception in v4.41.\n",
      "Non-default generation parameters: {'max_length': 170, 'early_stopping': True, 'num_beams': 4, 'length_penalty': 2.0, 'no_repeat_ngram_size': 3}\n"
     ]
    },
    {
     "name": "stdout",
     "output_type": "stream",
     "text": [
      "Repository already exists or another error occurred: 409 Client Error: Conflict for url: https://huggingface.co/api/repos/create (Request ID: Root=1-6644bef1-3d8f955101f455c45c76fe15;485de017-0e15-4ee9-964a-69ca84032214)\n",
      "\n",
      "You already created this model repo\n"
     ]
    },
    {
     "data": {
      "application/vnd.jupyter.widget-view+json": {
       "model_id": "e99f6fc2d3e74d838789a12fbdb93ca2",
       "version_major": 2,
       "version_minor": 0
      },
      "text/plain": [
       "optimizer.pt:   0%|          | 0.00/1.47G [00:00<?, ?B/s]"
      ]
     },
     "metadata": {},
     "output_type": "display_data"
    },
    {
     "data": {
      "application/vnd.jupyter.widget-view+json": {
       "model_id": "8ae21a60889c424a84eb7ad606870bf3",
       "version_major": 2,
       "version_minor": 0
      },
      "text/plain": [
       "model.safetensors:   0%|          | 0.00/1.23G [00:00<?, ?B/s]"
      ]
     },
     "metadata": {},
     "output_type": "display_data"
    },
    {
     "data": {
      "application/vnd.jupyter.widget-view+json": {
       "model_id": "c4b6981afd6b463fb6490bf0d66aa831",
       "version_major": 2,
       "version_minor": 0
      },
      "text/plain": [
       "Upload 5 LFS files:   0%|          | 0/5 [00:00<?, ?it/s]"
      ]
     },
     "metadata": {},
     "output_type": "display_data"
    },
    {
     "data": {
      "application/vnd.jupyter.widget-view+json": {
       "model_id": "3ca215a8ef5642d29f703067da95f0a3",
       "version_major": 2,
       "version_minor": 0
      },
      "text/plain": [
       "rng_state.pth:   0%|          | 0.00/14.2k [00:00<?, ?B/s]"
      ]
     },
     "metadata": {},
     "output_type": "display_data"
    },
    {
     "data": {
      "application/vnd.jupyter.widget-view+json": {
       "model_id": "bd63f8926580402e8041f22567338ef5",
       "version_major": 2,
       "version_minor": 0
      },
      "text/plain": [
       "scheduler.pt:   0%|          | 0.00/1.06k [00:00<?, ?B/s]"
      ]
     },
     "metadata": {},
     "output_type": "display_data"
    },
    {
     "data": {
      "application/vnd.jupyter.widget-view+json": {
       "model_id": "478669882f6e407480e85e67f0eb1285",
       "version_major": 2,
       "version_minor": 0
      },
      "text/plain": [
       "training_args.bin:   0%|          | 0.00/5.11k [00:00<?, ?B/s]"
      ]
     },
     "metadata": {},
     "output_type": "display_data"
    },
    {
     "name": "stdout",
     "output_type": "stream",
     "text": [
      "Model uploaded to: https://huggingface.co/ta4tsering/Lhasa_Kanjur_TrOCR_model\n"
     ]
    }
   ],
   "source": [
    "def upload_to_hf(model_dir, hf_repo_name):\n",
    "    api = HfApi()\n",
    "    encode, decode = \"google/vit-base-patch16-224-in21k\", \"sangjeedondrub/tibetan-roberta-base\"\n",
    "    feature_extractor = ViTImageProcessor.from_pretrained(encode)\n",
    "    tokenizer = RobertaTokenizer.from_pretrained(decode)\n",
    "    processor = TrOCRProcessor(image_processor=feature_extractor, tokenizer=tokenizer)\n",
    "    \n",
    "    # Save the processor locally\n",
    "    processor.save_pretrained(model_dir)\n",
    "    \n",
    "    # Load the trained model\n",
    "    model = TrOCRForCausalLM.from_pretrained(model_dir)\n",
    "    \n",
    "    # Save the model locally\n",
    "    model.save_pretrained(model_dir)\n",
    "    # Create the repository if it doesn't exist\n",
    "    try:\n",
    "        api.create_repo(repo_id=hf_repo_name, repo_type=\"model\")\n",
    "    except Exception as e:\n",
    "        print(f\"Repository already exists or another error occurred: {e}\")\n",
    "\n",
    "    # Upload the model\n",
    "    api.upload_folder(\n",
    "        folder_path=model_dir,\n",
    "        path_in_repo=\".\",\n",
    "        repo_id=hf_repo_name,\n",
    "        repo_type=\"model\"\n",
    "    )\n",
    "    print(f\"Model uploaded to: https://huggingface.co/{hf_repo_name}\")\n",
    "\n",
    "# Upload the best checkpoint\n",
    "upload_to_hf(model_dir, hf_repo_name)"
   ]
  },
  {
   "cell_type": "code",
   "execution_count": null,
   "id": "3e3799cb-fcbe-4ed2-9b16-aafa9f1e734b",
   "metadata": {},
   "outputs": [],
   "source": []
  }
 ],
 "metadata": {
  "kernelspec": {
   "display_name": "Python 3 (ipykernel)",
   "language": "python",
   "name": "python3"
  },
  "language_info": {
   "codemirror_mode": {
    "name": "ipython",
    "version": 3
   },
   "file_extension": ".py",
   "mimetype": "text/x-python",
   "name": "python",
   "nbconvert_exporter": "python",
   "pygments_lexer": "ipython3",
   "version": "3.10.13"
  }
 },
 "nbformat": 4,
 "nbformat_minor": 5
}
